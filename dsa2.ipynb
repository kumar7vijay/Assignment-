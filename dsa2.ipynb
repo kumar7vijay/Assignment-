{
 "cells": [
  {
   "cell_type": "markdown",
   "id": "e763919c-782d-4b8a-a24f-c8032c27bd08",
   "metadata": {},
   "source": [
    "# 1. Discuss string slicing and provide examples."
   ]
  },
  {
   "cell_type": "markdown",
   "id": "c5f44dd3-c604-4b79-b1be-4ee19c7abcee",
   "metadata": {},
   "source": [
    "String slicing is a feature in programming languages like Python that allows you to extract a subset of characters from a string. This is done using a slice notation, which lets you specify a start and end index, and optionally a step.\n",
    "\n",
    "#### Basic Syntax\n",
    "\n",
    "The basic syntax for string slicing is:"
   ]
  },
  {
   "cell_type": "markdown",
   "id": "ac6b2fab-60e9-4d5f-b44f-0e83a785e41f",
   "metadata": {},
   "source": [
    "string[start:end:step]"
   ]
  },
  {
   "cell_type": "markdown",
   "id": "00f273fe-a047-4f05-b8ed-4a6185e726b7",
   "metadata": {},
   "source": [
    "* start: The index where the slice begins (inclusive).\n",
    "* end: The index where the slice ends (exclusive).\n",
    "* step: The step between each index (optional).\n",
    "\n",
    "## Examples\n",
    "\n",
    "### 1. Basic Slicing"
   ]
  },
  {
   "cell_type": "code",
   "execution_count": 3,
   "id": "b467b2d8-8085-405a-a376-c594e5099721",
   "metadata": {},
   "outputs": [],
   "source": [
    "text = \"Hello, India!\"\n",
    "slice1 = text[0:5]   # 'Hello'\n",
    "slice2 = text[7:]    # 'India!'\n",
    "slice3 = text[:5]    # 'Hello'"
   ]
  },
  {
   "cell_type": "markdown",
   "id": "dfc8756f-148c-487f-b1d9-9d8ccbecc727",
   "metadata": {},
   "source": [
    "* text[0:5] extracts characters from index 0 to 4 (i.e., 'Hello').\n",
    "* text[7:] extracts characters from index 7 to the end (i.e., 'India!').\n",
    "* text[:5] extracts characters from the beginning up to index 4 (i.e., 'Hello').\n",
    "\n",
    "### 2. Omitting Indices"
   ]
  },
  {
   "cell_type": "code",
   "execution_count": 1,
   "id": "084d30ca-a9e8-49a8-bdff-459ffd845752",
   "metadata": {},
   "outputs": [],
   "source": [
    "text = \"Hello, India!\"\n",
    "# Extracting from the beginning to index 5\n",
    "slice2 = text[:5]  # Output: 'Hello'\n",
    "\n",
    "# Extracting from index 7 to the end\n",
    "slice3 = text[7:]  # Output: 'India!'\n",
    "\n",
    "# Extracting the whole string\n",
    "slice4 = text[:]  # Output: 'Hello, India!'"
   ]
  },
  {
   "cell_type": "markdown",
   "id": "5aca41ee-a37c-4076-9e4b-428b4b3d4449",
   "metadata": {},
   "source": [
    "In these examples:"
   ]
  },
  {
   "cell_type": "markdown",
   "id": "309c017e-80af-437e-a230-6fb5868a367b",
   "metadata": {},
   "source": [
    "* text[:5] means start from the beginning and go up to index 5.\n",
    "* text[7:] means start from index 7 and continue to the end.\n",
    "* text[:] means take the whole string.\n",
    "\n",
    "\n",
    "### Using Step"
   ]
  },
  {
   "cell_type": "code",
   "execution_count": 2,
   "id": "a60698cf-16a8-4058-bf9c-f56df174af7a",
   "metadata": {},
   "outputs": [],
   "source": [
    "text = \"Hello, India!\"\n",
    "# Extracting every second character from index 0 to 11\n",
    "slice5 = text[0:12:2]  # Output: 'Hlo ol!'"
   ]
  },
  {
   "cell_type": "markdown",
   "id": "1b11201a-8a67-4978-badc-f30098131a53",
   "metadata": {},
   "source": [
    "In this example, text[0:12:2] starts at index 0, goes up to index 12, and takes every second character."
   ]
  },
  {
   "cell_type": "markdown",
   "id": "20967ff9-64b0-4f3d-a4fe-37bbcc439509",
   "metadata": {},
   "source": [
    "### Negative Indices\n",
    "\n",
    "Negative indices count from the end of the string:"
   ]
  },
  {
   "cell_type": "code",
   "execution_count": null,
   "id": "1f303936-ba1c-424c-96aa-718f13773c4f",
   "metadata": {},
   "outputs": [],
   "source": [
    "text = \"Hello, India!\"\n",
    "# Extracting the last 6 characters\n",
    "slice6 = text[-6:]  # Output: 'India!'\n",
    "\n",
    "# Extracting characters from the 6th last to the 2nd last\n",
    "slice7 = text[-6:-1]  # Output: 'India'"
   ]
  },
  {
   "cell_type": "markdown",
   "id": "682ff5a4-59cb-4de4-b40d-7c61f51752ca",
   "metadata": {},
   "source": [
    "#### In these examples:\n",
    "\n",
    "* text[-6:] starts 6 characters from the end and continues to the end.\n",
    "* text[-6:-1] starts 6 characters from the end and goes up to but does not include the last character.\n",
    "\n",
    "#### Practical Uses\n",
    "\n",
    "* Extracting Substrings: For example, getting the domain from an email address.\n",
    "\n",
    "* Reversing Strings: By using a negative step. For example, text[::-1] reverses the string.\n",
    "\n",
    "String slicing is a powerful and flexible feature for manipulating and analyzing strings in Python and many other programming languages."
   ]
  },
  {
   "cell_type": "markdown",
   "id": "5b926c9e-3179-4fd0-b418-d174e4578223",
   "metadata": {},
   "source": [
    "# 2. Explain the key features of lists in Python."
   ]
  },
  {
   "cell_type": "markdown",
   "id": "f68057ad-919a-42a8-96ac-da1c119024ea",
   "metadata": {},
   "source": [
    "Lists in Python are a versatile and fundamental data structure that allows you to store and manipulate a collection of items. Here are some key features of Python lists:"
   ]
  },
  {
   "cell_type": "markdown",
   "id": "584a18f0-46c7-4a8e-9e80-dd7567b9c1c3",
   "metadata": {},
   "source": [
    "### 1. Ordered Collection\n",
    "\n",
    "Lists maintain the order of elements as they are added. This means that the order in which you insert items into the list is preserved and can be relied upon when iterating through the list."
   ]
  },
  {
   "cell_type": "code",
   "execution_count": 3,
   "id": "e74e08a3-e442-469e-a327-3a510046c8db",
   "metadata": {},
   "outputs": [
    {
     "name": "stdout",
     "output_type": "stream",
     "text": [
      "10\n"
     ]
    }
   ],
   "source": [
    "my_list = [10, 20, 30]\n",
    "print(my_list[0])  # Output: 10"
   ]
  },
  {
   "cell_type": "markdown",
   "id": "d6b17885-7f0c-4e5f-8c5d-447168689f04",
   "metadata": {},
   "source": [
    "### 2. Mutable\n",
    "\n",
    "Lists are mutable, meaning you can change, add, or remove elements after the list has been created."
   ]
  },
  {
   "cell_type": "code",
   "execution_count": 4,
   "id": "83cf3e48-b2ea-43bb-b3e8-2ce94253453e",
   "metadata": {},
   "outputs": [
    {
     "name": "stdout",
     "output_type": "stream",
     "text": [
      "[25, 30, 40]\n"
     ]
    }
   ],
   "source": [
    "my_list = [10, 20, 30]\n",
    "my_list[1] = 25  # Modify the element at index 1\n",
    "my_list.append(40)  # Add a new element to the end\n",
    "del my_list[0]  # Remove the element at index 0\n",
    "print(my_list)  # Output: [25, 30, 40]"
   ]
  },
  {
   "cell_type": "markdown",
   "id": "f9ec8dc9-145d-45eb-886f-1767b3fbc9c0",
   "metadata": {},
   "source": [
    "### 3. Dynamic Size\n",
    "\n",
    "Unlike arrays in some other programming languages, Python lists can grow or shrink in size dynamically. You can add or remove elements without having to specify the size of the list in advance."
   ]
  },
  {
   "cell_type": "code",
   "execution_count": 5,
   "id": "6b0c75b5-b83d-4e3d-8201-a656fa9ab14a",
   "metadata": {},
   "outputs": [
    {
     "name": "stdout",
     "output_type": "stream",
     "text": [
      "[1, 2, 3, 4, 5, 6]\n"
     ]
    }
   ],
   "source": [
    "my_list = [1, 2, 3]\n",
    "my_list.append(4)\n",
    "my_list.extend([5, 6])\n",
    "print(my_list)  # Output: [1, 2, 3, 4, 5, 6]"
   ]
  },
  {
   "cell_type": "markdown",
   "id": "5f469e8a-c78b-48b9-8aaa-093bfb5878aa",
   "metadata": {},
   "source": [
    "### 4. Heterogeneous Elements\n",
    "\n",
    "A list can contain elements of different types. For example, you can have integers, strings, and other objects within the same list."
   ]
  },
  {
   "cell_type": "code",
   "execution_count": 6,
   "id": "925ebd70-1e83-4b70-9201-878f40cf9f9e",
   "metadata": {},
   "outputs": [
    {
     "name": "stdout",
     "output_type": "stream",
     "text": [
      "[1, 'hello', 3.14, [1, 2, 3]]\n"
     ]
    }
   ],
   "source": [
    "my_list = [1, \"hello\", 3.14, [1, 2, 3]]\n",
    "print(my_list)  # Output: [1, 'hello', 3.14, [1, 2, 3]]"
   ]
  },
  {
   "cell_type": "markdown",
   "id": "4fb8ea01-8172-44a0-8408-9b5f3dd61344",
   "metadata": {},
   "source": [
    "### 5. Indexing and Slicing\n",
    "\n",
    "You can access elements in a list using indexing and slicing, similar to strings. Indexing starts from 0, and negative indices count from the end of the list."
   ]
  },
  {
   "cell_type": "code",
   "execution_count": 7,
   "id": "be978465-3b30-43b8-b958-eda773771552",
   "metadata": {},
   "outputs": [
    {
     "name": "stdout",
     "output_type": "stream",
     "text": [
      "b\n",
      "c\n",
      "['b', 'c']\n"
     ]
    }
   ],
   "source": [
    "my_list = ['a', 'b', 'c', 'd']\n",
    "print(my_list[1])  # Output: 'b'\n",
    "print(my_list[-2])  # Output: 'c'\n",
    "print(my_list[1:3])  # Output: ['b', 'c']"
   ]
  },
  {
   "cell_type": "markdown",
   "id": "59535461-7230-4789-984a-8a6bb9a4cc72",
   "metadata": {},
   "source": [
    "### 6. List Methods\n",
    "\n",
    "Python lists come with a variety of built-in methods that allow you to manipulate the list. Some commonly used methods include:\n",
    "\n",
    "* append(x): Adds an item to the end of the list.\n",
    "* extend(iterable): Extends the list by appending elements from an iterable.\n",
    "* insert(i, x): Inserts an item at a specified position.\n",
    "* remove(x): Removes the first occurrence of an item.\n",
    "* pop([i]): Removes and returns the item at the specified position. If no index is specified, removes and returns the last item.\n",
    "* clear(): Removes all items from the list.\n",
    "* index(x[, start[, end]]): Returns the index of the first occurrence of an item.\n",
    "* count(x): Returns the number of occurrences of an item.\n",
    "* sort(key=None, reverse=False): Sorts the list in place.\n",
    "* reverse(): Reverses the list in place."
   ]
  },
  {
   "cell_type": "code",
   "execution_count": 8,
   "id": "6d1e0850-b744-4181-8950-3d4328c80978",
   "metadata": {},
   "outputs": [
    {
     "name": "stdout",
     "output_type": "stream",
     "text": [
      "[1, 1, 3, 4, 5, 9]\n"
     ]
    }
   ],
   "source": [
    "my_list = [3, 1, 4, 1, 5]\n",
    "my_list.append(9)\n",
    "my_list.sort()\n",
    "print(my_list)  # Output: [1, 1, 3, 4, 5, 9]"
   ]
  },
  {
   "cell_type": "markdown",
   "id": "2371c443-ccd1-4537-b852-574260654288",
   "metadata": {},
   "source": [
    "### 7. List Comprehensions\n",
    "\n",
    "Python supports a concise way to create lists using list comprehensions, which provide a syntactically elegant and readable way to generate lists."
   ]
  },
  {
   "cell_type": "code",
   "execution_count": 9,
   "id": "112de7e9-fb6a-4240-bd43-6efd378b25e4",
   "metadata": {},
   "outputs": [
    {
     "name": "stdout",
     "output_type": "stream",
     "text": [
      "[0, 1, 4, 9, 16, 25, 36, 49, 64, 81]\n"
     ]
    }
   ],
   "source": [
    "squares = [x**2 for x in range(10)]\n",
    "print(squares)  # Output: [0, 1, 4, 9, 16, 25, 36, 49, 64, 81]"
   ]
  },
  {
   "cell_type": "markdown",
   "id": "08c1ed25-066f-44b0-8e82-b633587f42b6",
   "metadata": {},
   "source": [
    "### 8. Nested Lists\n",
    "\n",
    "Lists can contain other lists, allowing you to create multi-dimensional arrays or matrices."
   ]
  },
  {
   "cell_type": "code",
   "execution_count": 10,
   "id": "3981f26a-3a53-47d3-8b45-d3d120772239",
   "metadata": {},
   "outputs": [
    {
     "name": "stdout",
     "output_type": "stream",
     "text": [
      "6\n"
     ]
    }
   ],
   "source": [
    "matrix = [\n",
    "    [1, 2, 3],\n",
    "    [4, 5, 6],\n",
    "    [7, 8, 9]\n",
    "]\n",
    "print(matrix[1][2])  # Output: 6"
   ]
  },
  {
   "cell_type": "markdown",
   "id": "2209f60e-bb4b-4671-a8c3-af15e09c1982",
   "metadata": {},
   "source": [
    "These features make lists one of the most flexible and frequently used data structures in Python, suitable for a wide range of applications."
   ]
  },
  {
   "cell_type": "markdown",
   "id": "71fecd39-ecaa-4b59-96a6-e8c03bea1a9d",
   "metadata": {},
   "source": [
    "# 3. Describe how to access, modify and delete elements in a list with examples."
   ]
  },
  {
   "cell_type": "markdown",
   "id": "c38f4590-a095-423f-b2aa-4ac4eca75863",
   "metadata": {},
   "source": [
    "Accessing, modifying, and deleting elements in a list are fundamental operations when working with lists in Python. Here’s how you can perform each of these tasks with examples:\n",
    "\n",
    "### Accessing Elements\n",
    "\n",
    "Elements in a list can be accessed using indexing. Python uses zero-based indexing, meaning the first element is at index 0.\n",
    "\n",
    "#### Example: Accessing Elements"
   ]
  },
  {
   "cell_type": "code",
   "execution_count": 11,
   "id": "fc50e3eb-9921-4c08-b55f-8495ebbe444e",
   "metadata": {},
   "outputs": [
    {
     "name": "stdout",
     "output_type": "stream",
     "text": [
      "apple\n",
      "banana\n",
      "date\n",
      "['banana', 'cherry']\n"
     ]
    }
   ],
   "source": [
    "my_list = ['apple', 'banana', 'cherry', 'date']\n",
    "\n",
    "# Access the first element\n",
    "print(my_list[0])  # Output: 'apple'\n",
    "\n",
    "# Access the second element\n",
    "print(my_list[1])  # Output: 'banana'\n",
    "\n",
    "# Access the last element using negative indexing\n",
    "print(my_list[-1])  # Output: 'date'\n",
    "\n",
    "# Access a range of elements (slicing)\n",
    "print(my_list[1:3])  # Output: ['banana', 'cherry']"
   ]
  },
  {
   "cell_type": "markdown",
   "id": "277e7eec-0d3c-4013-ada3-837ba814953a",
   "metadata": {},
   "source": [
    "### Modifying Elements\n",
    "\n",
    "You can modify elements in a list by accessing them through their index and then assigning a new value.\n",
    "\n",
    "#### Example: Modifying Elements"
   ]
  },
  {
   "cell_type": "code",
   "execution_count": 12,
   "id": "d2dbbbf7-5e03-44ee-b36c-08146af5eb47",
   "metadata": {},
   "outputs": [
    {
     "name": "stdout",
     "output_type": "stream",
     "text": [
      "['apple', 'blueberry', 'cherry', 'date']\n",
      "['apple', 'blueberry', 'cherry', 'dragonfruit']\n"
     ]
    }
   ],
   "source": [
    "my_list = ['apple', 'banana', 'cherry', 'date']\n",
    "\n",
    "# Modify the second element\n",
    "my_list[1] = 'blueberry'\n",
    "print(my_list)  # Output: ['apple', 'blueberry', 'cherry', 'date']\n",
    "\n",
    "# Modify the last element\n",
    "my_list[-1] = 'dragonfruit'\n",
    "print(my_list)  # Output: ['apple', 'blueberry', 'cherry', 'dragonfruit']"
   ]
  },
  {
   "cell_type": "markdown",
   "id": "76febca8-58b7-4e4e-9a98-e74a84d4b5fc",
   "metadata": {},
   "source": [
    "### Deleting Elements\n",
    "\n",
    "You can delete elements from a list using the del statement, the pop() method, or the remove() method. Each method has its use case:\n",
    "\n",
    "#### Using del Statement\n",
    "\n",
    "The del statement removes an element at a specific index.\n",
    "\n",
    "#### Example: Deleting Elements with del"
   ]
  },
  {
   "cell_type": "code",
   "execution_count": 13,
   "id": "c14205c6-3f35-43d1-956a-fe554a85461c",
   "metadata": {},
   "outputs": [
    {
     "name": "stdout",
     "output_type": "stream",
     "text": [
      "['apple', 'cherry', 'date']\n",
      "['apple', 'cherry']\n"
     ]
    }
   ],
   "source": [
    "my_list = ['apple', 'banana', 'cherry', 'date']\n",
    "\n",
    "# Delete the second element\n",
    "del my_list[1]\n",
    "print(my_list)  # Output: ['apple', 'cherry', 'date']\n",
    "\n",
    "# Delete the last element\n",
    "del my_list[-1]\n",
    "print(my_list)  # Output: ['apple', 'cherry']"
   ]
  },
  {
   "cell_type": "markdown",
   "id": "036e2516-9e0f-4156-9644-cf72cf066e48",
   "metadata": {},
   "source": [
    "#### Using pop() Method\n",
    "\n",
    "The pop() method removes and returns an element at a specified index. If no index is specified, it removes and returns the last element.\n",
    "\n",
    "#### Example: Deleting Elements with pop()"
   ]
  },
  {
   "cell_type": "code",
   "execution_count": 14,
   "id": "75ce5bcb-cbd6-47b3-b944-398581fa7f98",
   "metadata": {},
   "outputs": [
    {
     "name": "stdout",
     "output_type": "stream",
     "text": [
      "banana\n",
      "['apple', 'cherry', 'date']\n",
      "date\n",
      "['apple', 'cherry']\n"
     ]
    }
   ],
   "source": [
    "my_list = ['apple', 'banana', 'cherry', 'date']\n",
    "\n",
    "# Remove and return the second element\n",
    "removed_element = my_list.pop(1)\n",
    "print(removed_element)  # Output: 'banana'\n",
    "print(my_list)  # Output: ['apple', 'cherry', 'date']\n",
    "\n",
    "# Remove and return the last element\n",
    "last_element = my_list.pop()\n",
    "print(last_element)  # Output: 'date'\n",
    "print(my_list)  # Output: ['apple', 'cherry']"
   ]
  },
  {
   "cell_type": "markdown",
   "id": "94283c31-6579-4991-ad38-dd404082b056",
   "metadata": {},
   "source": [
    "#### Using remove() Method\n",
    "\n",
    "The remove() method removes the first occurrence of a specified value. If the value is not found, it raises a ValueError.\n",
    "\n",
    "#### Example: Deleting Elements with remove()"
   ]
  },
  {
   "cell_type": "code",
   "execution_count": 15,
   "id": "eac9cee3-f6a4-45ae-9058-3465faa7b918",
   "metadata": {},
   "outputs": [
    {
     "name": "stdout",
     "output_type": "stream",
     "text": [
      "['apple', 'cherry', 'date']\n"
     ]
    }
   ],
   "source": [
    "my_list = ['apple', 'banana', 'cherry', 'date']\n",
    "\n",
    "# Remove the element with the value 'banana'\n",
    "my_list.remove('banana')\n",
    "print(my_list)  # Output: ['apple', 'cherry', 'date']\n",
    "\n",
    "# Attempting to remove a value that is not in the list will raise an error\n",
    "# my_list.remove('grape')  # This would raise a ValueError"
   ]
  },
  {
   "cell_type": "markdown",
   "id": "aefca700-bb4d-4c2d-af50-16a449a2f800",
   "metadata": {},
   "source": [
    "### Summary\n",
    "\n",
    "* Accessing Elements: Use indexing (my_list[index]) to retrieve elements.\n",
    "* Modifying Elements: Use indexing to set new values (my_list[index] = new_value).\n",
    "* Deleting Elements: Use del my_list[index], my_list.pop(index), or my_list.remove(value) depending on whether you want to remove by index or value.\n",
    "\n",
    "These operations are essential for managing lists and manipulating data effectively in Python."
   ]
  },
  {
   "cell_type": "markdown",
   "id": "33a0ac4c-3d24-4e02-b2d0-b4d29a376ff4",
   "metadata": {},
   "source": [
    "# 4. Compare and contrast tuples and lists with examples."
   ]
  },
  {
   "cell_type": "markdown",
   "id": "d3c03641-4907-4ff0-b4fc-ea62b2320243",
   "metadata": {},
   "source": [
    "Tuples and lists are both sequence data types in Python, but they have different characteristics and use cases. Here’s a detailed comparison and contrast between tuples and lists, including examples.\n",
    "\n",
    "### Key Differences\n",
    "\n",
    "#### 1. Mutability\n",
    "\n",
    "* Lists: Mutable, meaning you can modify them after creation (e.g., change elements, add or remove items).\n",
    "* Tuples: Immutable, meaning once they are created, their elements cannot be changed or modified.\n",
    "\n",
    "#### Example:"
   ]
  },
  {
   "cell_type": "code",
   "execution_count": 19,
   "id": "7766f61f-7522-4f51-80d1-f5537ead8319",
   "metadata": {},
   "outputs": [
    {
     "name": "stdout",
     "output_type": "stream",
     "text": [
      "[10, 2, 3, 4]\n"
     ]
    }
   ],
   "source": [
    "# Lists\n",
    "my_list = [1, 2, 3]\n",
    "my_list[0] = 10  # Modifying an element\n",
    "my_list.append(4)  # Adding an element\n",
    "print(my_list)  # Output: [10, 2, 3, 4]\n",
    "\n",
    "# Tuples\n",
    "my_tuple = (1, 2, 3)\n",
    "# my_tuple[0] = 10  # This would raise a TypeError\n",
    "# my_tuple.append(4)  # Tuples do not have an append method"
   ]
  },
  {
   "cell_type": "markdown",
   "id": "6ee91482-4946-4240-942a-1e1da07992d2",
   "metadata": {},
   "source": [
    "#### 2. Syntax\n",
    "\n",
    "* Lists: Defined with square brackets [].\n",
    "* Tuples: Defined with parentheses ().\n",
    "\n",
    "#### Example:"
   ]
  },
  {
   "cell_type": "code",
   "execution_count": 20,
   "id": "41fef6ce-87d4-4c85-9c85-b8159ecf2d3c",
   "metadata": {},
   "outputs": [],
   "source": [
    "# List\n",
    "my_list = [1, 2, 3, 4]\n",
    "\n",
    "# Tuple\n",
    "my_tuple = (1, 2, 3, 4)"
   ]
  },
  {
   "cell_type": "markdown",
   "id": "7edc3d71-c3fe-4ba3-9036-dea0651cf7b6",
   "metadata": {},
   "source": [
    "#### 3. Methods\n",
    "\n",
    "* Lists: Have various methods for modification, including append(), extend(), insert(), remove(), pop(), clear(), and others.\n",
    "* Tuples: Have fewer methods, primarily count() and index() for querying.\n",
    "\n",
    "#### Example:"
   ]
  },
  {
   "cell_type": "code",
   "execution_count": 18,
   "id": "3385a96a-a20f-476a-956c-3889318f7a29",
   "metadata": {},
   "outputs": [
    {
     "name": "stdout",
     "output_type": "stream",
     "text": [
      "[1, 1.5, 2, 3, 4]\n",
      "2\n",
      "2\n"
     ]
    }
   ],
   "source": [
    "# List methods\n",
    "my_list = [1, 2, 3]\n",
    "my_list.append(4)\n",
    "my_list.insert(1, 1.5)\n",
    "print(my_list)  # Output: [1, 1.5, 2, 3, 4]\n",
    "\n",
    "# Tuple methods\n",
    "my_tuple = (1, 2, 3, 2)\n",
    "print(my_tuple.count(2))  # Output: 2\n",
    "print(my_tuple.index(3))  # Output: 2"
   ]
  },
  {
   "cell_type": "markdown",
   "id": "b284f38a-fe32-46e6-bf05-033fa7ef36bc",
   "metadata": {},
   "source": [
    "#### 4. Performance\n",
    "\n",
    "* Lists: Slightly slower for certain operations because of their dynamic nature.\n",
    "* Tuples: Generally faster than lists due to their immutability and fixed size.\n",
    "\n",
    "#### Example:"
   ]
  },
  {
   "cell_type": "code",
   "execution_count": 21,
   "id": "7572f9b1-02ee-4c0b-a7b2-ef9ed2790eed",
   "metadata": {},
   "outputs": [
    {
     "name": "stdout",
     "output_type": "stream",
     "text": [
      "List creation time: 0.0001366138458251953\n",
      "Tuple creation time: 0.00022840499877929688\n"
     ]
    }
   ],
   "source": [
    "import time\n",
    "\n",
    "# Timing list operations\n",
    "start_time = time.time()\n",
    "my_list = [i for i in range(1000)]\n",
    "end_time = time.time()\n",
    "print(\"List creation time:\", end_time - start_time)\n",
    "\n",
    "# Timing tuple operations\n",
    "start_time = time.time()\n",
    "my_tuple = tuple(i for i in range(1000))\n",
    "end_time = time.time()\n",
    "print(\"Tuple creation time:\", end_time - start_time)"
   ]
  },
  {
   "cell_type": "markdown",
   "id": "bd297ea9-55ea-40ca-86f1-e87577c0820d",
   "metadata": {},
   "source": [
    "#### 5. Use Cases\n",
    "\n",
    "* Lists: Suitable for collections of items that may need to be modified, like a list of tasks, a collection of user inputs, etc.\n",
    "* Tuples: Ideal for fixed collections of items that should not be altered, like coordinates, function return values, or records.\n",
    "\n",
    "#### Example:"
   ]
  },
  {
   "cell_type": "code",
   "execution_count": 22,
   "id": "24040276-58d2-4a79-b7fb-6456d754b72c",
   "metadata": {},
   "outputs": [],
   "source": [
    "# List use case\n",
    "todo_list = ['Buy groceries', 'Call mom', 'Finish homework']\n",
    "todo_list.append('Read a book')  # We may want to modify the list\n",
    "\n",
    "# Tuple use case\n",
    "coordinates = (40.7128, -74.0060)  # Latitude and longitude of a location\n",
    "# Coordinates should remain constant"
   ]
  },
  {
   "cell_type": "markdown",
   "id": "7e7677bc-90cb-45e6-8d1b-78f627dfb5e5",
   "metadata": {},
   "source": [
    "### Summary\n",
    "\n",
    "* Lists are mutable, defined with [ ], and come with a rich set of methods for modification.\n",
    "* Tuples are immutable, defined with ( ), and are typically used for fixed collections of items where immutability is desired.\n",
    "\n",
    "Both lists and tuples have their place in Python programming, and choosing between them depends on whether you need a mutable sequence or an immutable one."
   ]
  },
  {
   "cell_type": "markdown",
   "id": "cadf48ce-d321-4e30-8c59-13495176f7a5",
   "metadata": {},
   "source": [
    "# 5. Describe the key features of sets and provide examples of their use."
   ]
  },
  {
   "cell_type": "markdown",
   "id": "e563b7ec-28a9-40b3-bb13-0cf2c7d7c644",
   "metadata": {},
   "source": [
    "Sets in Python are a built-in data type that represents an unordered collection of unique elements. They are useful for various operations involving membership tests, removing duplicates, and performing mathematical set operations. Here are the key features of sets along with examples:\n",
    "\n",
    "### Key Features of Sets\n",
    "\n",
    "#### 1. Unordered Collection\n",
    "\n",
    "Sets do not maintain any order for the elements they contain. This means you cannot index or slice sets like lists or tuples.\n",
    "\n",
    "#### Example:"
   ]
  },
  {
   "cell_type": "code",
   "execution_count": 23,
   "id": "f9093a79-1e35-4253-8118-29cf24aa33dd",
   "metadata": {},
   "outputs": [],
   "source": [
    "my_set = {1, 2, 3, 4}\n",
    "# The order of elements is not guaranteed"
   ]
  },
  {
   "cell_type": "markdown",
   "id": "6285d5e5-dbea-4ea0-87c0-e1c6511e2978",
   "metadata": {},
   "source": [
    "#### 2. Unique Elements\n",
    "\n",
    "Sets automatically enforce uniqueness, meaning duplicate elements are not allowed. Adding a duplicate element to a set will not result in an error; the duplicate will simply be ignored.\n",
    "\n",
    "#### Example:"
   ]
  },
  {
   "cell_type": "code",
   "execution_count": 24,
   "id": "b7c95f14-230e-4537-a9e5-c4b2a7eb479b",
   "metadata": {},
   "outputs": [
    {
     "name": "stdout",
     "output_type": "stream",
     "text": [
      "{1, 2, 3, 4}\n"
     ]
    }
   ],
   "source": [
    "my_set = {1, 2, 2, 3, 4}\n",
    "print(my_set)  # Output: {1, 2, 3, 4}"
   ]
  },
  {
   "cell_type": "markdown",
   "id": "1d4ffa16-3887-4851-8d3b-f8a1e69cf1c6",
   "metadata": {},
   "source": [
    "#### 3. Mutable\n",
    "\n",
    "Sets are mutable, so you can add or remove elements after the set is created. However, the elements themselves must be immutable (e.g., numbers, strings, tuples).\n",
    "\n",
    "#### Example:"
   ]
  },
  {
   "cell_type": "code",
   "execution_count": 25,
   "id": "307f1a83-7dff-443f-b83c-6c3705b38ff5",
   "metadata": {},
   "outputs": [
    {
     "name": "stdout",
     "output_type": "stream",
     "text": [
      "{1, 3, 4}\n"
     ]
    }
   ],
   "source": [
    "my_set = {1, 2, 3}\n",
    "my_set.add(4)  # Adding an element\n",
    "my_set.remove(2)  # Removing an element\n",
    "print(my_set)  # Output: {1, 3, 4}"
   ]
  },
  {
   "cell_type": "markdown",
   "id": "d0c9cff9-a569-466a-b722-57e3f3f8bc1f",
   "metadata": {},
   "source": [
    "#### 4. No Indexing\n",
    "\n",
    "Because sets are unordered, you cannot access elements by index. Instead, you can check for membership or iterate over the set.\n",
    "\n",
    "#### Example:"
   ]
  },
  {
   "cell_type": "code",
   "execution_count": 26,
   "id": "10efa7ad-bb6c-4791-96e6-fa4f810d6651",
   "metadata": {},
   "outputs": [
    {
     "name": "stdout",
     "output_type": "stream",
     "text": [
      "True\n",
      "False\n",
      "1\n",
      "2\n",
      "3\n"
     ]
    }
   ],
   "source": [
    "my_set = {1, 2, 3}\n",
    "# Check for membership\n",
    "print(2 in my_set)  # Output: True\n",
    "print(4 in my_set)  # Output: False\n",
    "\n",
    "# Iterating over a set\n",
    "for item in my_set:\n",
    "    print(item)"
   ]
  },
  {
   "cell_type": "markdown",
   "id": "f3cf6865-20a6-417a-b3ea-07bdb341a114",
   "metadata": {},
   "source": [
    "#### 5. Set Operations\n",
    "\n",
    "Sets support various mathematical set operations, such as union, intersection, difference, and symmetric difference.\n",
    "\n",
    "#### Example:"
   ]
  },
  {
   "cell_type": "code",
   "execution_count": 27,
   "id": "1d7e074e-7761-4d3b-b31c-cd436a5b8b3c",
   "metadata": {},
   "outputs": [
    {
     "name": "stdout",
     "output_type": "stream",
     "text": [
      "{1, 2, 3, 4, 5, 6}\n",
      "{3, 4}\n",
      "{1, 2}\n",
      "{1, 2, 5, 6}\n"
     ]
    }
   ],
   "source": [
    "set_a = {1, 2, 3, 4}\n",
    "set_b = {3, 4, 5, 6}\n",
    "\n",
    "# Union\n",
    "union_set = set_a | set_b\n",
    "print(union_set)  # Output: {1, 2, 3, 4, 5, 6}\n",
    "\n",
    "# Intersection\n",
    "intersection_set = set_a & set_b\n",
    "print(intersection_set)  # Output: {3, 4}\n",
    "\n",
    "# Difference\n",
    "difference_set = set_a - set_b\n",
    "print(difference_set)  # Output: {1, 2}\n",
    "\n",
    "# Symmetric Difference\n",
    "sym_diff_set = set_a ^ set_b\n",
    "print(sym_diff_set)  # Output: {1, 2, 5, 6}"
   ]
  },
  {
   "cell_type": "markdown",
   "id": "39b15b55-2aa7-45ed-a6a3-a5f6b0171c39",
   "metadata": {},
   "source": [
    "#### 6. Set Methods\n",
    "\n",
    "Sets come with a variety of built-in methods for adding, removing, and modifying elements, as well as for performing set operations.\n",
    "\n",
    "#### Common Methods:\n",
    "\n",
    "* add(elem): Adds an element to the set.\n",
    "* remove(elem): Removes an element from the set; raises KeyError if the element is not present.\n",
    "* discard(elem): Removes an element if present; does nothing if the element is not found.\n",
    "* clear(): Removes all elements from the set.\n",
    "* copy(): Returns a shallow copy of the set.\n",
    "* union(other_set): Returns the union of the set and other_set.\n",
    "* intersection(other_set): Returns the intersection of the set and other_set.\n",
    "* difference(other_set): Returns the difference of the set and other_set.\n",
    "* symmetric_difference(other_set): Returns the symmetric difference of the set and other_set.\n",
    "\n",
    "#### Example:"
   ]
  },
  {
   "cell_type": "code",
   "execution_count": 28,
   "id": "c44950dd-ab74-4d68-ba2a-ae9bd4a7a0dd",
   "metadata": {},
   "outputs": [
    {
     "name": "stdout",
     "output_type": "stream",
     "text": [
      "{1, 3, 4}\n",
      "{1, 2, 3, 4}\n",
      "{2, 3}\n",
      "{1}\n",
      "{1, 4}\n"
     ]
    }
   ],
   "source": [
    "my_set = {1, 2, 3}\n",
    "my_set.add(4)  # Adding an element\n",
    "my_set.discard(2)  # Removing an element if present\n",
    "print(my_set)  # Output: {1, 3, 4}\n",
    "\n",
    "# Using set operations methods\n",
    "set_a = {1, 2, 3}\n",
    "set_b = {2, 3, 4}\n",
    "print(set_a.union(set_b))  # Output: {1, 2, 3, 4}\n",
    "print(set_a.intersection(set_b))  # Output: {2, 3}\n",
    "print(set_a.difference(set_b))  # Output: {1}\n",
    "print(set_a.symmetric_difference(set_b))  # Output: {1, 4}"
   ]
  },
  {
   "cell_type": "markdown",
   "id": "b17e59fd-3c90-4a72-92d7-7837d4d121d6",
   "metadata": {},
   "source": [
    "### Summary\n",
    "\n",
    "* Unordered: No guaranteed order of elements.\n",
    "* Unique: Automatically removes duplicates.\n",
    "* Mutable: Elements can be added or removed, but elements must be immutable.\n",
    "* No Indexing: Cannot access elements by index.\n",
    "* Set Operations: Supports mathematical set operations like union, intersection, difference, and symmetric difference.\n",
    "* Methods: Provides methods for adding, removing, and performing set operations.\n",
    "\n",
    "Sets are particularly useful for operations where uniqueness and membership testing are important, and they offer efficient ways to perform common mathematical operations."
   ]
  },
  {
   "cell_type": "markdown",
   "id": "5ded7f04-1c0e-4852-b41f-12dd705dbc52",
   "metadata": {},
   "source": [
    "# 6. Discuss the use cases of tuples and sets in Python programming."
   ]
  },
  {
   "cell_type": "markdown",
   "id": "97a2ae84-2b63-4a32-b838-a2434f0e99a4",
   "metadata": {},
   "source": [
    "Tuples and sets are both important data structures in Python, each serving different purposes based on their characteristics. Here’s an overview of common use cases for both:\n",
    "\n",
    "### Use Cases for Tuples\n",
    "\n",
    "#### 1. Immutable Data Storage\n",
    "\n",
    "* Use Case: Storing fixed collections of items that should not change.\n",
    "* Example: Coordinates of a location, RGB color values.\n",
    "* Explanation: Since tuples are immutable, they are ideal for representing data that should remain constant throughout the program."
   ]
  },
  {
   "cell_type": "code",
   "execution_count": 29,
   "id": "3fa4451e-6597-430f-9b99-2da08d4da05b",
   "metadata": {},
   "outputs": [],
   "source": [
    "coordinates = (40.7128, -74.0060)  # Latitude and longitude\n",
    "color = (255, 0, 0)  # RGB color for red"
   ]
  },
  {
   "cell_type": "markdown",
   "id": "d849adee-b500-41fc-89d9-71d101370fc6",
   "metadata": {},
   "source": [
    "#### 2. Function Return Values\n",
    "\n",
    "* Use Case: Returning multiple values from a function.\n",
    "* Example: A function that returns both the quotient and the remainder of a division.\n",
    "* Explanation: Tuples provide a convenient way to return multiple pieces of related data from a function."
   ]
  },
  {
   "cell_type": "code",
   "execution_count": 30,
   "id": "3218b841-a015-41c7-9b9d-483743c83b12",
   "metadata": {},
   "outputs": [
    {
     "name": "stdout",
     "output_type": "stream",
     "text": [
      "3\n",
      "1\n"
     ]
    }
   ],
   "source": [
    "def divide(a, b):\n",
    "    return (a // b, a % b)\n",
    "\n",
    "quotient, remainder = divide(10, 3)\n",
    "print(quotient)  # Output: 3\n",
    "print(remainder)  # Output: 1"
   ]
  },
  {
   "cell_type": "markdown",
   "id": "85f07ac3-78b7-479a-a020-ab9e44996471",
   "metadata": {},
   "source": [
    "#### 3. Data Integrity\n",
    "\n",
    "* Use Case: Using tuples as keys in dictionaries or elements in sets.\n",
    "* Example: Using (x, y) coordinates as keys in a dictionary to represent points on a grid.\n",
    "* Explanation: Tuples are hashable and can be used as dictionary keys or set elements, unlike lists."
   ]
  },
  {
   "cell_type": "code",
   "execution_count": 31,
   "id": "42b04384-d17e-440e-bca0-4a6b5f149bbe",
   "metadata": {},
   "outputs": [],
   "source": [
    "point_to_name = { (0, 0): \"Origin\", (1, 2): \"Point A\" }"
   ]
  },
  {
   "cell_type": "markdown",
   "id": "a114ce6f-91e0-48b8-b29f-73689882f972",
   "metadata": {},
   "source": [
    "#### 4. Records and Data Structuring\n",
    "\n",
    "* Use Case: Grouping different pieces of data into a single composite value.\n",
    "* Example: Representing an employee record with name, age, and job title.\n",
    "* Explanation: Tuples are often used to bundle related pieces of information."
   ]
  },
  {
   "cell_type": "code",
   "execution_count": 32,
   "id": "801951ba-af69-4fb3-8b29-a639f75310be",
   "metadata": {},
   "outputs": [],
   "source": [
    "employee = (\"Vijay\", 30, \"Engineer\")"
   ]
  },
  {
   "cell_type": "markdown",
   "id": "71cdafd5-5398-4193-a2be-5b7c2a2a133e",
   "metadata": {},
   "source": [
    "### Use Cases for Sets\n",
    "\n",
    "#### 1. Removing Duplicates\n",
    "\n",
    "* Use Case: Eliminating duplicate elements from a collection.\n",
    "* Example: Removing duplicate entries from a list of items.\n",
    "* Explanation: Sets automatically ensure that all elements are unique."
   ]
  },
  {
   "cell_type": "code",
   "execution_count": 33,
   "id": "a5d9d837-7579-4854-af99-cac3fe9bdd0c",
   "metadata": {},
   "outputs": [
    {
     "name": "stdout",
     "output_type": "stream",
     "text": [
      "{1, 2, 3, 4, 5}\n"
     ]
    }
   ],
   "source": [
    "items = [1, 2, 2, 3, 4, 4, 5]\n",
    "unique_items = set(items)\n",
    "print(unique_items)  # Output: {1, 2, 3, 4, 5}"
   ]
  },
  {
   "cell_type": "markdown",
   "id": "44a80e98-a1a5-438a-9d4c-edc2b6f20a49",
   "metadata": {},
   "source": [
    "#### 2. Membership Testing\n",
    "\n",
    "* Use Case: Efficiently checking if an element is part of a collection.\n",
    "* Example: Checking if a user has access to a set of permissions.\n",
    "* Explanation: Sets provide fast membership tests due to their underlying hash-based implementation."
   ]
  },
  {
   "cell_type": "code",
   "execution_count": 34,
   "id": "b3c7421f-be35-4e2c-a2ba-ea030f0df281",
   "metadata": {},
   "outputs": [
    {
     "name": "stdout",
     "output_type": "stream",
     "text": [
      "True\n",
      "False\n"
     ]
    }
   ],
   "source": [
    "permissions = {\"read\", \"write\", \"execute\"}\n",
    "print(\"read\" in permissions)  # Output: True\n",
    "print(\"delete\" in permissions)  # Output: False"
   ]
  },
  {
   "cell_type": "markdown",
   "id": "dceffdfc-f2a2-4cb2-afcf-49a70a714d62",
   "metadata": {},
   "source": [
    "#### 3. Mathematical Set Operations\n",
    "\n",
    "* Use Case: Performing operations such as union, intersection, difference, and symmetric difference.\n",
    "* Example: Analyzing common and unique elements between two lists.\n",
    "* Explanation: Sets support mathematical set operations directly, which can be useful for problems involving groups or categories."
   ]
  },
  {
   "cell_type": "code",
   "execution_count": 35,
   "id": "131f13fc-404e-4b56-be4c-440e7d5a83e4",
   "metadata": {},
   "outputs": [
    {
     "name": "stdout",
     "output_type": "stream",
     "text": [
      "{1, 2, 3, 4}\n",
      "{2, 3}\n",
      "{1}\n",
      "{1, 4}\n"
     ]
    }
   ],
   "source": [
    "set_a = {1, 2, 3}\n",
    "set_b = {2, 3, 4}\n",
    "\n",
    "print(set_a.union(set_b))  # Output: {1, 2, 3, 4}\n",
    "print(set_a.intersection(set_b))  # Output: {2, 3}\n",
    "print(set_a.difference(set_b))  # Output: {1}\n",
    "print(set_a.symmetric_difference(set_b))  # Output: {1, 4}"
   ]
  },
  {
   "cell_type": "markdown",
   "id": "33dc2ea1-fdf9-4c23-a224-a7e3053f09f0",
   "metadata": {},
   "source": [
    "#### 4. Data Deduplication and Validation\n",
    "\n",
    "* Use Case: Ensuring that data collected or processed is unique.\n",
    "* Example: Validating user input or data processing to ensure uniqueness.\n",
    "* Explanation: Sets can help in ensuring that the data being handled does not contain duplicates."
   ]
  },
  {
   "cell_type": "code",
   "execution_count": 36,
   "id": "daf0686c-97fc-4100-9f2f-268c5859b9f8",
   "metadata": {},
   "outputs": [
    {
     "name": "stdout",
     "output_type": "stream",
     "text": [
      "{'apple', 'orange', 'banana'}\n"
     ]
    }
   ],
   "source": [
    "user_input = [\"apple\", \"banana\", \"apple\", \"orange\"]\n",
    "unique_input = set(user_input)\n",
    "print(unique_input)  # Output: {'banana', 'apple', 'orange'}"
   ]
  },
  {
   "cell_type": "markdown",
   "id": "80a6cb31-f54b-4da0-9a65-4615be04b8bd",
   "metadata": {},
   "source": [
    "### Summary\n",
    "\n",
    "* Tuples are best used when you need to store immutable collections of items, return multiple values from functions, or need a hashable collection for dictionary keys or set elements.\n",
    "* Sets are ideal for tasks involving unique collections of items, membership testing, and mathematical set operations. They are particularly useful for removing duplicates and ensuring data uniqueness.\n",
    "\n",
    "Both data structures offer unique capabilities and performance advantages depending on the requirements of your application."
   ]
  },
  {
   "cell_type": "markdown",
   "id": "e942023f-b81f-4131-b977-3b7bf36532a9",
   "metadata": {},
   "source": [
    "# 7. Describe how to add, modify, and delete items in a dictionary with examples."
   ]
  },
  {
   "cell_type": "markdown",
   "id": "01aff9eb-d8a1-4414-8b0c-8da989123e77",
   "metadata": {},
   "source": [
    "Dictionaries in Python are mutable, unordered collections of key-value pairs. They allow you to store and manipulate data in a flexible and efficient way. Here’s how you can add, modify, and delete items in a dictionary with examples:\n",
    "\n",
    "### Adding Items\n",
    "\n",
    "You can add new key-value pairs to a dictionary by assigning a value to a new key. If the key already exists, this will update the existing key with the new value.\n",
    "\n",
    "#### Example: Adding Items"
   ]
  },
  {
   "cell_type": "code",
   "execution_count": 37,
   "id": "55ec0c9a-beee-4d78-8043-ce8a0bea1885",
   "metadata": {},
   "outputs": [
    {
     "name": "stdout",
     "output_type": "stream",
     "text": [
      "{'name': 'Vijay', 'age': 34, 'city': 'Rewari'}\n",
      "{'name': 'Vijay', 'age': 26, 'city': 'Rewari'}\n"
     ]
    }
   ],
   "source": [
    "# Creating an initial dictionary\n",
    "my_dict = {'name': 'Vijay', 'age': 34}\n",
    "\n",
    "# Adding a new key-value pair\n",
    "my_dict['city'] = 'Rewari'\n",
    "\n",
    "print(my_dict)  # Output: {'name': 'Vijay', 'age': 34, 'city': 'Rewari'}\n",
    "\n",
    "# Updating an existing key\n",
    "my_dict['age'] = 26\n",
    "\n",
    "print(my_dict)  # Output: {'name': 'Vijay', 'age': 26, 'city': 'Rewari'}"
   ]
  },
  {
   "cell_type": "markdown",
   "id": "54fc13cc-b59d-4046-b7e0-970d0a3cae81",
   "metadata": {},
   "source": [
    "### Modifying Items\n",
    "\n",
    "You can modify the value associated with an existing key by reassigning a new value to that key.\n",
    "\n",
    "#### Example: Modifying Items"
   ]
  },
  {
   "cell_type": "code",
   "execution_count": 38,
   "id": "1d8bf420-6d4d-4438-b777-e71490ce98b5",
   "metadata": {},
   "outputs": [
    {
     "name": "stdout",
     "output_type": "stream",
     "text": [
      "{'name': 'Vijay', 'age': 26, 'city': 'Rewari'}\n"
     ]
    }
   ],
   "source": [
    "# Creating an initial dictionary\n",
    "my_dict = {'name': 'Vijay', 'age': 34, 'city': 'Rewari'}\n",
    "\n",
    "# Modifying the value of an existing key\n",
    "my_dict['age'] = 26\n",
    "\n",
    "print(my_dict)  # Output: {'name': 'Vijay', 'age': 26, 'city': 'Rewari'}"
   ]
  },
  {
   "cell_type": "markdown",
   "id": "42e18fa0-7728-4805-9916-e29f5ab7e110",
   "metadata": {},
   "source": [
    "### Deleting Items\n",
    "\n",
    "There are several ways to delete items from a dictionary:\n",
    "\n",
    "* Using del Statement: Removes a key-value pair by key.\n",
    "* Using pop() Method: Removes a key-value pair and returns the value.\n",
    "* Using popitem() Method: Removes and returns the last inserted key-value pair (in Python 3.7+ where insertion order is preserved).\n",
    "* Using clear() Method: Removes all items from the dictionary.\n",
    "\n",
    "#### Example: Deleting Items"
   ]
  },
  {
   "cell_type": "code",
   "execution_count": 39,
   "id": "72156eca-b0d1-485f-a20d-5b8cdf1ae747",
   "metadata": {},
   "outputs": [
    {
     "name": "stdout",
     "output_type": "stream",
     "text": [
      "{'name': 'Vijay', 'age': 34}\n",
      "34\n",
      "{'name': 'Vijay'}\n",
      "('name', 'Vijay')\n",
      "{}\n",
      "{}\n"
     ]
    }
   ],
   "source": [
    "# Creating an initial dictionary\n",
    "my_dict = {'name': 'Vijay', 'age': 34, 'city': 'Rewari'}\n",
    "\n",
    "# Deleting an item using del\n",
    "del my_dict['city']\n",
    "print(my_dict)  # Output: {'name': 'Vijay', 'age': 34}\n",
    "\n",
    "# Deleting an item using pop\n",
    "age = my_dict.pop('age')\n",
    "print(age)  # Output: 34\n",
    "print(my_dict)  # Output: {'name': 'Vijay'}\n",
    "\n",
    "# Deleting the last inserted item using popitem (Python 3.7+)\n",
    "item = my_dict.popitem()\n",
    "print(item)  # Output: ('name', 'Vijay')\n",
    "print(my_dict)  # Output: {}\n",
    "\n",
    "# Clearing all items from the dictionary\n",
    "my_dict.clear()\n",
    "print(my_dict)  # Output: {}"
   ]
  },
  {
   "cell_type": "markdown",
   "id": "6200dc0b-61e5-490a-9e0a-00986753afb2",
   "metadata": {},
   "source": [
    "### Summary\n",
    "\n",
    "* Adding Items: Use the syntax my_dict[key] = value to add a new key-value pair or update an existing one.\n",
    "* Modifying Items: Reassign a new value to an existing key using my_dict[key] = new_value.\n",
    "* Deleting Items:\n",
    "    * del my_dict[key]: Deletes a key-value pair by key.\n",
    "    * my_dict.pop(key): Removes and returns the value of the specified key.\n",
    "    * my_dict.popitem(): Removes and returns the last inserted key-value pair.\n",
    "    * my_dict.clear(): Removes all items from the dictionary.\n",
    "\n",
    "These operations allow you to manage and manipulate the contents of dictionaries effectively, making them a powerful tool for handling data in Python."
   ]
  },
  {
   "cell_type": "markdown",
   "id": "67f9b5ab-e8ec-4e27-9d8d-7eae32c0a2cc",
   "metadata": {},
   "source": [
    "# 8. Discuss the importance of dictionary keys being immutable and provide examples."
   ]
  },
  {
   "cell_type": "markdown",
   "id": "c95f0fb8-e57d-4a07-8a38-fb3e2078a601",
   "metadata": {},
   "source": [
    "In Python, dictionary keys must be immutable because mutable objects could potentially change during their lifetime, which could lead to inconsistencies and errors in data storage and retrieval. Here's a detailed explanation of why dictionary keys must be immutable, along with examples:\n",
    "\n",
    "### Why Dictionary Keys Must Be Immutable\n",
    "\n",
    "#### 1.Hashing Consistency\n",
    "\n",
    "* Explanation: Dictionaries in Python are implemented using hash tables. To quickly locate values based on their keys, Python computes a hash value for each key. If a key were mutable, its hash value could change if the key’s value changes, leading to incorrect results or failures in retrieving data.\n",
    "* Example: Imagine using a list (which is mutable) as a key in a dictionary. If you modify the list, its hash value would change, causing problems when trying to access or update the value associated with that key."
   ]
  },
  {
   "cell_type": "markdown",
   "id": "c715ae1b-7bb6-44bf-abbc-19695afef070",
   "metadata": {},
   "source": [
    "#### 2. Data Integrity\n",
    "\n",
    "* Explanation: Immutable keys ensure that the association between keys and values remains consistent throughout the lifecycle of the dictionary. This prevents scenarios where the dictionary structure becomes inconsistent due to changes in the key values.\n",
    "* Example: If you use a string (immutable) as a key, you are guaranteed that the string's hash value and identity remain constant, ensuring reliable data access."
   ]
  },
  {
   "cell_type": "markdown",
   "id": "41095a4a-a8e3-4db7-9cf7-9eb7802309cf",
   "metadata": {},
   "source": [
    "### Examples of Immutable and Mutable Keys\n",
    "\n",
    "#### Example 1: Using Immutable Keys\n",
    "\n",
    "Immutable objects like strings, numbers, and tuples (containing only immutable elements) can be used as dictionary keys."
   ]
  },
  {
   "cell_type": "code",
   "execution_count": 40,
   "id": "a62bf2a7-a6ce-4f2b-8bfc-4fc132c7fb92",
   "metadata": {},
   "outputs": [
    {
     "name": "stdout",
     "output_type": "stream",
     "text": [
      "Vijay\n",
      "one\n",
      "point1\n"
     ]
    }
   ],
   "source": [
    "# Using strings as dictionary keys\n",
    "my_dict = {'name': 'Vijay', 'age': 30}\n",
    "print(my_dict['name'])  # Output: Vijay\n",
    "\n",
    "# Using numbers as dictionary keys\n",
    "my_dict = {1: 'one', 2: 'two'}\n",
    "print(my_dict[1])  # Output: one\n",
    "\n",
    "# Using tuples as dictionary keys (containing only immutable elements)\n",
    "my_dict = {(1, 2): 'point1', (3, 4): 'point2'}\n",
    "print(my_dict[(1, 2)])  # Output: point1"
   ]
  },
  {
   "cell_type": "markdown",
   "id": "fb3e8409-46da-44b2-89a2-7226f298acd6",
   "metadata": {},
   "source": [
    "#### Example 2: Attempting to Use Mutable Keys\n",
    "\n",
    "Mutable objects like lists or dictionaries themselves cannot be used as keys. Trying to use them will result in a TypeError because they are not hashable."
   ]
  },
  {
   "cell_type": "code",
   "execution_count": 41,
   "id": "d4eb89de-32bf-41ea-9a46-6fcac0cc037d",
   "metadata": {},
   "outputs": [
    {
     "name": "stdout",
     "output_type": "stream",
     "text": [
      "unhashable type: 'list'\n",
      "unhashable type: 'dict'\n"
     ]
    }
   ],
   "source": [
    "# Attempting to use a list as a dictionary key\n",
    "try:\n",
    "    my_dict = {[1, 2, 3]: 'value'}\n",
    "except TypeError as e:\n",
    "    print(e)  # Output: unhashable type: 'list'\n",
    "\n",
    "# Attempting to use a dictionary as a dictionary key\n",
    "try:\n",
    "    my_dict = {{'key': 'value'}: 'another_value'}\n",
    "except TypeError as e:\n",
    "    print(e)  # Output: unhashable type: 'dict'"
   ]
  },
  {
   "cell_type": "markdown",
   "id": "e7d433ff-b4b8-4bf0-b83a-3b929e5def4d",
   "metadata": {},
   "source": [
    "### Summary\n",
    "\n",
    "* Immutable Keys: Keys must be immutable to ensure their hash value remains constant and the dictionary maintains its integrity. Immutable types include strings, numbers, and tuples with immutable elements.\n",
    "* Mutable Keys: Mutable types, such as lists and dictionaries, cannot be used as dictionary keys because their hash values can change, leading to potential data inconsistency.\n",
    "\n",
    "Ensuring that dictionary keys are immutable is crucial for the consistent behavior of dictionaries in Python, allowing them to efficiently map keys to values while maintaining data integrity."
   ]
  }
 ],
 "metadata": {
  "kernelspec": {
   "display_name": "Python 3 (ipykernel)",
   "language": "python",
   "name": "python3"
  },
  "language_info": {
   "codemirror_mode": {
    "name": "ipython",
    "version": 3
   },
   "file_extension": ".py",
   "mimetype": "text/x-python",
   "name": "python",
   "nbconvert_exporter": "python",
   "pygments_lexer": "ipython3",
   "version": "3.10.8"
  }
 },
 "nbformat": 4,
 "nbformat_minor": 5
}
